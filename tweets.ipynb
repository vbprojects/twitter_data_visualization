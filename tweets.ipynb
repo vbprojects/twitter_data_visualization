{
 "cells": [
  {
   "cell_type": "code",
   "execution_count": 1,
   "metadata": {},
   "outputs": [],
   "source": [
    "using JuliaDB\n",
    "using StatsPlots"
   ]
  },
  {
   "cell_type": "code",
   "execution_count": 2,
   "metadata": {},
   "outputs": [
    {
     "name": "stdout",
     "output_type": "stream",
     "text": [
      "Table with 283545 rows, 7 columns:\n",
      "followers  friends  favourited  statuscount  favourites  retweets  time\n",
      "─────────────────────────────────────────────────────────────────────────\n",
      "10233622   101      42          396794       86          12        13419\n",
      "10233622   101      42          396794       19          15        12146\n",
      "10233622   101      42          396794       29          11        12820\n",
      "10233622   101      42          396794       85          30        10666\n",
      "10233622   101      42          396794       98          31        11103\n",
      "10233622   101      42          396794       81          22        10070\n",
      "10233622   101      42          396794       146         40        8150\n",
      "10233622   101      42          396794       146         40        8150\n",
      "10233622   101      42          396794       20          8         6847\n",
      "10233622   101      42          396794       818         1043      6753\n",
      "10233622   101      42          396794       60          22        6464\n",
      "10233622   101      42          396794       62          22        5572\n",
      "⋮\n",
      "842        224      189386      109363       11746       3267      74584\n",
      "842        224      189386      109363       5867        2537      70719\n",
      "842        224      189386      109363       1           0         49942\n",
      "842        224      189386      109363       4709        4385      65217\n",
      "842        224      189386      109363       0           0         52472\n",
      "842        224      189386      109363       21585       6604      73044\n",
      "842        224      189386      109363       1606        641       132860\n",
      "842        224      189386      109363       64          48        53912\n",
      "842        224      189386      109363       188         153       68982\n",
      "842        224      189386      109363       1844        810       96541\n",
      "842        224      189386      109363       3           4         58322\n"
     ]
    }
   ],
   "source": [
    "t = loadtable(\"csvfile.csv\")\n",
    "println(t)"
   ]
  },
  {
   "cell_type": "code",
   "execution_count": null,
   "metadata": {},
   "outputs": [],
   "source": [
    "@df t scatter(:favourites, :retweets)"
   ]
  }
 ],
 "metadata": {
  "kernelspec": {
   "display_name": "Julia 1.4.2",
   "language": "julia",
   "name": "julia-1.4"
  },
  "language_info": {
   "file_extension": ".jl",
   "mimetype": "application/julia",
   "name": "julia",
   "version": "1.4.2"
  }
 },
 "nbformat": 4,
 "nbformat_minor": 4
}
